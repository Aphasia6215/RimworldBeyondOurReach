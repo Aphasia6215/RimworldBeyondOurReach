{
 "cells": [
  {
   "cell_type": "code",
   "execution_count": 1,
   "metadata": {},
   "outputs": [],
   "source": [
    "changes = [\n",
    "    # File                                                              res   tic  cnt\n",
    "    (\"Common/Defs/ProcessDefs/Normal/ProcessGen1Raw.xml\",               1,    5,    3),\n",
    "    (\"Common/Defs/ProcessDefs/Temperature/ProcessGen1Raw.xml\",          1,    5,    3),\n",
    "    (\"Mods/Biotech/Defs/WastefulProcesses/ProcessesGen1Raw.xml\",        1,    5,    3),\n",
    "\n",
    "    (\"Common/Defs/ProcessDefs/Normal/ProcessGen2Raw.xml\",               1.25,    3,    2),\n",
    "    (\"Common/Defs/ProcessDefs/Temperature/ProcessGen2Raw.xml\",          1.25,    3,    2),\n",
    "    (\"Mods/Biotech/Defs/WastefulProcesses/ProcessesGen2Raw.xml\",        1.25,    3,    2),\n",
    "    \n",
    "    (\"Common/Defs/ProcessDefs/Normal/ProcessGen3Raw.xml\",               1.35,    2,    1.75),\n",
    "    (\"Common/Defs/ProcessDefs/Temperature/ProcessGen3Raw.xml\",          1.35,    2,    1.75),\n",
    "    (\"Mods/Biotech/Defs/WastefulProcesses/ProcessesGen3Raw.xml\",        1.35,    2,    1.75),\n",
    "    \n",
    "    (\"Common/Defs/ProcessDefs/Normal/ProcessGen1Complex.xml\",           0.25,    5,    0.5),\n",
    "    (\"Common/Defs/ProcessDefs/Temperature/ProcessGen1Complex.xml\",      0.25,    5,    0.5),\n",
    "    (\"Mods/Biotech/Defs/WastefulProcesses/ProcessesGen1Complex.xml\",    0.25,    5,    0.5),\n",
    "    \n",
    "    (\"Common/Defs/ProcessDefs/Normal/ProcessGen2Complex.xml\",           0.5,    3,    1),\n",
    "    (\"Common/Defs/ProcessDefs/Temperature/ProcessGen2Complex.xml\",      0.5,    3,    1),\n",
    "    (\"Mods/Biotech/Defs/WastefulProcesses/ProcessesGen2Complex.xml\",    0.5,    3,    1),\n",
    "    \n",
    "    (\"Common/Defs/ProcessDefs/Normal/ProcessGen3Complex.xml\",           0.75,    2,    0.75),\n",
    "    (\"Common/Defs/ProcessDefs/Temperature/ProcessGen3Complex.xml\",      0.75,    2,    0.75),\n",
    "    (\"Mods/Biotech/Defs/WastefulProcesses/ProcessesGen3Complex.xml\",    0.75,    2,    0.75),\n",
    "    \n",
    "\n",
    "]"
   ]
  },
  {
   "cell_type": "code",
   "execution_count": 2,
   "metadata": {},
   "outputs": [],
   "source": [
    "import xml.etree.ElementTree as ET\n",
    "\n",
    "def modify_xml(xml_file, result_factor=1, ticks_factor=1, count_needed_factor=1):\n",
    "    tree = ET.parse(xml_file)\n",
    "    root = tree.getroot()\n",
    "\n",
    "    for process_def in root.findall('.//PipeSystem.ProcessDef'):\n",
    "        # Modify results/count\n",
    "        results_count = process_def.find('.//results/li/count')\n",
    "        if results_count is not None:\n",
    "            results_count.text = str(int(int(results_count.text) * result_factor))\n",
    "\n",
    "        # Modify ticks\n",
    "        ticks = process_def.find('ticks')\n",
    "        if ticks is not None:\n",
    "            ticks.text = str(int(int(ticks.text) * ticks_factor))\n",
    "\n",
    "        # Modify ingredients/li/countNeeded only if pipeNet exists\n",
    "        for ingredient in process_def.findall('.//ingredients/li'):\n",
    "            pipe_net = ingredient.find('pipeNet')\n",
    "            if pipe_net is not None:\n",
    "                count_needed = ingredient.find('countNeeded')\n",
    "                if count_needed is not None:\n",
    "                    count_needed.text = str(int(int(count_needed.text) * count_needed_factor))\n",
    "\n",
    "    # tree.write(f\"{xml_file.split('.')[0]}_new.xml\")\n",
    "    tree.write(xml_file)\n"
   ]
  },
  {
   "cell_type": "code",
   "execution_count": 3,
   "metadata": {},
   "outputs": [],
   "source": [
    "for a,b,c,d in changes:\n",
    "    modify_xml(a,b,c,d)"
   ]
  }
 ],
 "metadata": {
  "kernelspec": {
   "display_name": "Python 3",
   "language": "python",
   "name": "python3"
  },
  "language_info": {
   "codemirror_mode": {
    "name": "ipython",
    "version": 3
   },
   "file_extension": ".py",
   "mimetype": "text/x-python",
   "name": "python",
   "nbconvert_exporter": "python",
   "pygments_lexer": "ipython3",
   "version": "3.10.12"
  }
 },
 "nbformat": 4,
 "nbformat_minor": 2
}
